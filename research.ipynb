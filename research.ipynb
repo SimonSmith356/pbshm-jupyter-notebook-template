{
 "cells": [
  {
   "attachments": {},
   "cell_type": "markdown",
   "metadata": {},
   "source": [
    "# PBSHM Research Template\n",
    "This Jupyter Notebook template has been put together to support the research of PBSHM without the need of developing a full PBSHM Framework module. The commands to connect to the database and translate timestamp have the same names that are present within the PBSHM Framework, as such, do not change these names as it will delay the adoption of your code within the framework. Feel free to remove/edit this markdown block as appropriate for your Jupyter Notebook when you publish to your own repo, however, the following code block will need to remain."
   ]
  },
  {
   "cell_type": "code",
   "execution_count": null,
   "metadata": {},
   "outputs": [],
   "source": [
    "# Import packages\n",
    "import pymongo\n",
    "from json import load as load_json\n",
    "from urllib.parse import quote_plus\n",
    "from datetime import datetime\n",
    "from pytz import utc\n",
    "\n",
    "# Simulate PBSHM methods\n",
    "def db_connect():\n",
    "    config = load_json(open(\"database.json\"))\n",
    "    mongodb_uri = f\"mongodb://{quote_plus(config['authentication']['username'])}:{quote_plus(config['authentication']['password'])}@{config['hostname']}:{config['port']}/{config['authentication']['database']}\"\n",
    "    return pymongo.MongoClient(mongodb_uri)[config['database']]\n",
    "\n",
    "def structure_collection():\n",
    "    return db_connect()[\"structures\"]\n",
    "\n",
    "def nanoseconds_since_epoch_to_datetime(nanoseconds):\n",
    "    return datetime.fromtimestamp(int(nanoseconds * 0.000000001), utc)"
   ]
  },
  {
   "attachments": {},
   "cell_type": "markdown",
   "metadata": {},
   "source": [
    "## Example\n",
    "One example of how you can use the above code to connect to the PBSHM database and retrieve information on a population. For the example, I am using an [aggregation pipeline](https://www.mongodb.com/docs/manual/core/aggregation-pipeline/) to load any documents which have \"documentation-example\" set as their population and then limiting the results to the first result only. This markdown block and the code block below can be removed on your own version. \n"
   ]
  },
  {
   "cell_type": "code",
   "execution_count": null,
   "metadata": {},
   "outputs": [],
   "source": [
    "for document in structure_collection().aggregate([\n",
    "    {\"$match\": {\"population\": {\"$eq\": \"documentation-example\"}}},\n",
    "    {\"$limit\": 1}\n",
    "]):\n",
    "    print(f\"Structure Name: {document['name']}\")\n",
    "    print(f\"Timestamp: {nanoseconds_since_epoch_to_datetime(document['timestamp'])}\")\n",
    "    for channel in document[\"channels\"]:\n",
    "        print(f\"\\tChannel: {channel['name']} Type: {channel['type']} Unit: {channel['unit'] if 'unit' in channel else None} Value: {channel['value']}\")"
   ]
  }
 ],
 "metadata": {
  "kernelspec": {
   "display_name": "env",
   "language": "python",
   "name": "python3"
  },
  "language_info": {
   "codemirror_mode": {
    "name": "ipython",
    "version": 3
   },
   "file_extension": ".py",
   "mimetype": "text/x-python",
   "name": "python",
   "nbconvert_exporter": "python",
   "pygments_lexer": "ipython3",
   "version": "3.8.10"
  },
  "orig_nbformat": 4,
  "vscode": {
   "interpreter": {
    "hash": "2bf23e03bbf8297576255553e0b25020c95f1b9b095f01305157df61acaacc7c"
   }
  }
 },
 "nbformat": 4,
 "nbformat_minor": 2
}
